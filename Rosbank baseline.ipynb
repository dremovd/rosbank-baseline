{
 "cells": [
  {
   "cell_type": "code",
   "execution_count": 1,
   "metadata": {
    "collapsed": true
   },
   "outputs": [],
   "source": [
    "import pandas as pd\n",
    "import numpy as np"
   ]
  },
  {
   "cell_type": "code",
   "execution_count": 2,
   "metadata": {
    "collapsed": true
   },
   "outputs": [],
   "source": [
    "from sklearn.model_selection import KFold, cross_val_score\n",
    "from xgboost import XGBClassifier, XGBRegressor"
   ]
  },
  {
   "cell_type": "code",
   "execution_count": 3,
   "metadata": {},
   "outputs": [
    {
     "name": "stdout",
     "output_type": "stream",
     "text": [
      "CPU times: user 18.9 s, sys: 509 ms, total: 19.4 s\n",
      "Wall time: 22.3 s\n"
     ]
    }
   ],
   "source": [
    "%%time\n",
    "\n",
    "import requests\n",
    "\n",
    "def extract_month(s):\n",
    "    day, month, year = s.split('/')\n",
    "    month = int(month)\n",
    "    month += (int(year) - 2016) * 12 \n",
    "    return month \n",
    "    \n",
    "mcc_codes_table = pd.read_html(requests.get('https://mcc-codes.ru/code', headers={'User-agent': 'Mozilla/5.0'}).text, converters={'MCC': str})[0]\n",
    "mcc_map = mcc_codes_table[[u'MCC', u'Группа']].set_index('MCC').to_dict()[u'Группа']\n",
    "def load_dataset(name):\n",
    "    data = pd.read_csv(\n",
    "        name \n",
    "    )\n",
    "    data['TRDATETIME'] = pd.to_datetime(data['TRDATETIME'], format = '%d%b%y:%X')\n",
    "    data['channel_type'] = data['channel_type'].fillna('0').apply(lambda s : int(s[-1]))\n",
    "    data['mcc_group'] = data['MCC'].astype(str).map(mcc_map)\n",
    "    \n",
    "    return data\n",
    "\n",
    "train = load_dataset('data/train.csv')\n",
    "test = load_dataset('data/test.csv')"
   ]
  },
  {
   "cell_type": "code",
   "execution_count": 4,
   "metadata": {},
   "outputs": [
    {
     "name": "stdout",
     "output_type": "stream",
     "text": [
      "Index([                          u'channel_type',\n",
      "                                        u'cl_id',\n",
      "                                      u'sum_POS',\n",
      "                       u'sum_Розничные магазины',\n",
      "                          u'sum_Поставщик услуг',\n",
      "                       u'sum_Различные магазины',\n",
      "                                u'sum_Транспорт',\n",
      "                          u'sum_Магазины одежды',\n",
      "                              u'sum_Развлечения',\n",
      "                            u'sum_Бизнес услуги',\n",
      "                   u'sum_Государственные услуги',\n",
      "                            u'sum_Личные услуги',\n",
      "          u'sum_Коммунальные и кабельные услуги',\n",
      "                  u'sum_Профессиональные услуги',\n",
      "                           u'sum_Отели и мотели',\n",
      "       u'sum_Автомобили и транспортные средства',\n",
      "                         u'sum_Ремонтные услуги',\n",
      "                       u'sum_Аренда автомобилей',\n",
      "                u'sum_Продажи по почте/телефону',\n",
      "       u'sum_Оптовые поставщики и производители',\n",
      "                  u'sum_Авиалинии, авиакомпании',\n",
      "                                      u'sum_nan',\n",
      "                     u'sum_Членские организации',\n",
      "                       u'sum_Контрактные услуги'],\n",
      "      dtype='object')\n",
      "CPU times: user 3.58 s, sys: 244 ms, total: 3.83 s\n",
      "Wall time: 4.03 s\n"
     ]
    }
   ],
   "source": [
    "%%time\n",
    "\n",
    "mcc_groups = train.mcc_group.unique()\n",
    "\n",
    "def build_features(data):\n",
    "    aggregated = data.groupby('cl_id')[[ \n",
    "        'channel_type',\n",
    "    ]].first()\n",
    "    ids = aggregated.index\n",
    "    aggregated['cl_id'] = ids\n",
    "    aggregated['sum_POS'] = data[data.trx_category == 'POS'].groupby('cl_id')['amount'].sum()\n",
    "    for mcc_group in mcc_groups:\n",
    "        aggregated['sum_%s' % mcc_group] = data[\n",
    "            (data.mcc_group == mcc_group)\n",
    "        ].groupby('cl_id')['amount'].sum()\n",
    "    \n",
    "    return aggregated.fillna(0)\n",
    "\n",
    "train_agg = build_features(train)\n",
    "test_agg = build_features(test)\n",
    "\n",
    "features = train_agg.columns\n",
    "print(features)"
   ]
  },
  {
   "cell_type": "code",
   "execution_count": 5,
   "metadata": {},
   "outputs": [],
   "source": [
    "y_train_1 = train.groupby('cl_id')['target_flag'].first()  \n",
    "y_train_2 = np.log(train.groupby('cl_id')['target_sum'].first() + 1.0)\n",
    "\n",
    "X_train = train_agg[features].values\n",
    "X_test = test_agg[features].values"
   ]
  },
  {
   "cell_type": "code",
   "execution_count": 6,
   "metadata": {
    "collapsed": true
   },
   "outputs": [],
   "source": [
    "kf = list(KFold(4, shuffle = True, random_state = 0).split(X_train, y_train_1))"
   ]
  },
  {
   "cell_type": "code",
   "execution_count": 7,
   "metadata": {},
   "outputs": [
    {
     "name": "stdout",
     "output_type": "stream",
     "text": [
      "CPU times: user 227 ms, sys: 93.7 ms, total: 320 ms\n",
      "Wall time: 2.24 s\n"
     ]
    }
   ],
   "source": [
    "%%time\n",
    "\n",
    "xgb1 = XGBClassifier(nthread=1)\n",
    "xgb2 = XGBRegressor(nthread=1)\n",
    "\n",
    "score1 = np.mean(cross_val_score(\n",
    "    xgb1, X_train, y_train_1, \n",
    "    scoring = 'roc_auc', \n",
    "    cv = kf, n_jobs = 4\n",
    "))\n",
    "\n",
    "score2 = np.mean(cross_val_score(\n",
    "    xgb2, X_train, y_train_2, \n",
    "    scoring = 'neg_mean_squared_error', \n",
    "    cv = kf, n_jobs = 4\n",
    "))\n",
    "\n",
    "'%.4f, %.4f' % (score1, (-score2) ** 0.5)"
   ]
  },
  {
   "cell_type": "code",
   "execution_count": 8,
   "metadata": {},
   "outputs": [
    {
     "name": "stdout",
     "output_type": "stream",
     "text": [
      "CPU times: user 1.06 s, sys: 7.64 ms, total: 1.07 s\n",
      "Wall time: 1.07 s\n"
     ]
    }
   ],
   "source": [
    "%%time\n",
    "\n",
    "xgb1 = XGBClassifier(nthread = -1)\n",
    "xgb2 = XGBRegressor(nthread = -1)\n",
    "\n",
    "xgb1.fit(X_train, y_train_1)\n",
    "xgb2.fit(X_train, y_train_2)"
   ]
  },
  {
   "cell_type": "code",
   "execution_count": 9,
   "metadata": {},
   "outputs": [],
   "source": [
    "p1 = xgb1.predict_proba(X_test)[:, 1]\n",
    "p2 = np.exp(xgb2.predict(X_test)) - 1\n",
    "p2[p2 <= 0] = 0"
   ]
  },
  {
   "cell_type": "code",
   "execution_count": 10,
   "metadata": {},
   "outputs": [],
   "source": [
    "submission1 = test_agg.copy()[['cl_id']]\n",
    "submission1['pred'] = (p1 - p1.min()) / (p1.max() - p1.min())\n",
    "\n",
    "submission2 = test_agg.copy()[['cl_id']]\n",
    "submission2['pred'] = p2 "
   ]
  },
  {
   "cell_type": "code",
   "execution_count": 11,
   "metadata": {},
   "outputs": [
    {
     "data": {
      "image/png": "[encoded data removed]",
      "text/plain": [
       "<matplotlib.figure.Figure at 0x109444d50>"
      ]
     },
     "metadata": {},
     "output_type": "display_data"
    }
   ],
   "source": [
    "%matplotlib inline\n",
    "import seaborn\n",
    "import matplotlib.pyplot as plt\n",
    "\n",
    "_ = plt.hist(submission1['pred'].values, bins = 50)"
   ]
  },
  {
   "cell_type": "code",
   "execution_count": 12,
   "metadata": {},
   "outputs": [
    {
     "data": {
      "image/png": "[encoded data removed]",
      "text/plain": [
       "<matplotlib.figure.Figure at 0x106c71950>"
      ]
     },
     "metadata": {},
     "output_type": "display_data"
    }
   ],
   "source": [
    "_ = plt.hist(np.log(1 + submission2['pred'].values), bins = 50, log = True)"
   ]
  },
  {
   "cell_type": "code",
   "execution_count": 13,
   "metadata": {},
   "outputs": [],
   "source": [
    "submission1.to_csv('task1.csv', index = False)\n",
    "submission2.to_csv('task2.csv', index = False)"
   ]
  },
  {
   "cell_type": "code",
   "execution_count": null,
   "metadata": {
    "collapsed": true
   },
   "outputs": [],
   "source": []
  }
 ],
 "metadata": {
  "kernelspec": {
   "display_name": "Python 2",
   "language": "python",
   "name": "python2"
  },
  "language_info": {
   "codemirror_mode": {
    "name": "ipython",
    "version": 2
   },
   "file_extension": ".py",
   "mimetype": "text/x-python",
   "name": "python",
   "nbconvert_exporter": "python",
   "pygments_lexer": "ipython2",
   "version": "2.7.13"
  }
 },
 "nbformat": 4,
 "nbformat_minor": 2
}
